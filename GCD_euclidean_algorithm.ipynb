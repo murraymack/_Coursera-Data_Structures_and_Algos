{
 "cells": [
  {
   "cell_type": "code",
   "execution_count": 27,
   "metadata": {
    "scrolled": true
   },
   "outputs": [
    {
     "name": "stdout",
     "output_type": "stream",
     "text": [
      "2000000000 1\n"
     ]
    },
    {
     "ename": "UnboundLocalError",
     "evalue": "local variable 'a_temp' referenced before assignment",
     "output_type": "error",
     "traceback": [
      "\u001b[1;31m---------------------------------------------------------------------------\u001b[0m",
      "\u001b[1;31mUnboundLocalError\u001b[0m                         Traceback (most recent call last)",
      "\u001b[1;32m<ipython-input-27-79b6347a79ba>\u001b[0m in \u001b[0;36m<module>\u001b[1;34m\u001b[0m\n\u001b[0;32m     22\u001b[0m \u001b[1;33m\u001b[0m\u001b[0m\n\u001b[0;32m     23\u001b[0m \u001b[0ma\u001b[0m\u001b[1;33m,\u001b[0m\u001b[0mb\u001b[0m \u001b[1;33m=\u001b[0m \u001b[0minput\u001b[0m\u001b[1;33m(\u001b[0m\u001b[1;33m)\u001b[0m\u001b[1;33m.\u001b[0m\u001b[0msplit\u001b[0m\u001b[1;33m(\u001b[0m\u001b[1;34m\" \"\u001b[0m\u001b[1;33m)\u001b[0m\u001b[1;33m\u001b[0m\u001b[0m\n\u001b[1;32m---> 24\u001b[1;33m \u001b[0mprint\u001b[0m\u001b[1;33m(\u001b[0m\u001b[0mEuclidGCD\u001b[0m\u001b[1;33m(\u001b[0m\u001b[0ma\u001b[0m\u001b[1;33m,\u001b[0m\u001b[0mb\u001b[0m\u001b[1;33m)\u001b[0m\u001b[1;33m)\u001b[0m\u001b[1;33m\u001b[0m\u001b[0m\n\u001b[0m",
      "\u001b[1;32m<ipython-input-27-79b6347a79ba>\u001b[0m in \u001b[0;36mEuclidGCD\u001b[1;34m(a, b)\u001b[0m\n\u001b[0;32m     14\u001b[0m         \u001b[1;32mreturn\u001b[0m \u001b[0ma\u001b[0m\u001b[1;33m\u001b[0m\u001b[0m\n\u001b[0;32m     15\u001b[0m \u001b[1;33m\u001b[0m\u001b[0m\n\u001b[1;32m---> 16\u001b[1;33m     \u001b[1;32mwhile\u001b[0m \u001b[0ma_temp\u001b[0m \u001b[1;33m%\u001b[0m \u001b[0mb_temp\u001b[0m \u001b[1;33m!=\u001b[0m \u001b[1;36m0\u001b[0m\u001b[1;33m:\u001b[0m\u001b[1;33m\u001b[0m\u001b[0m\n\u001b[0m\u001b[0;32m     17\u001b[0m         \u001b[0mold_b_temp\u001b[0m \u001b[1;33m=\u001b[0m \u001b[0mb_temp\u001b[0m\u001b[1;33m\u001b[0m\u001b[0m\n\u001b[0;32m     18\u001b[0m         \u001b[0mb_temp\u001b[0m \u001b[1;33m=\u001b[0m \u001b[0ma_temp\u001b[0m \u001b[1;33m%\u001b[0m \u001b[0mb_temp\u001b[0m\u001b[1;33m\u001b[0m\u001b[0m\n",
      "\u001b[1;31mUnboundLocalError\u001b[0m: local variable 'a_temp' referenced before assignment"
     ]
    }
   ],
   "source": [
    "# base case:\n",
    "# if b = 0: return a\n",
    "\n",
    "#Ex: Compute GCD 3918848, 1653264\n",
    "#=gcd(1653264, 612320)\n",
    "\n",
    "def EuclidGCD(a, b):\n",
    "\n",
    "    a_temp = int(a)\n",
    "    b_temp = int(b)\n",
    "    \n",
    "    if b > a:\n",
    "        a_temp = int(b)\n",
    "        b_temp = int(a)\n",
    "        \n",
    "    if a == b:\n",
    "        return a\n",
    "    \n",
    "    while a_temp % b_temp != 0:\n",
    "        old_b_temp = b_temp\n",
    "        b_temp = a_temp % b_temp\n",
    "        a_temp = old_b_temp\n",
    "    \n",
    "    return b_temp\n",
    "\n",
    "a,b = input().split(\" \")\n",
    "print(EuclidGCD(a,b))"
   ]
  },
  {
   "cell_type": "code",
   "execution_count": 26,
   "metadata": {},
   "outputs": [
    {
     "data": {
      "text/plain": [
       "1"
      ]
     },
     "execution_count": 26,
     "metadata": {},
     "output_type": "execute_result"
    }
   ],
   "source": [
    "EuclidGCD(1, 1)"
   ]
  },
  {
   "cell_type": "code",
   "execution_count": null,
   "metadata": {},
   "outputs": [],
   "source": []
  }
 ],
 "metadata": {
  "kernelspec": {
   "display_name": "Python 3",
   "language": "python",
   "name": "python3"
  },
  "language_info": {
   "codemirror_mode": {
    "name": "ipython",
    "version": 3
   },
   "file_extension": ".py",
   "mimetype": "text/x-python",
   "name": "python",
   "nbconvert_exporter": "python",
   "pygments_lexer": "ipython3",
   "version": "3.5.5"
  }
 },
 "nbformat": 4,
 "nbformat_minor": 4
}
