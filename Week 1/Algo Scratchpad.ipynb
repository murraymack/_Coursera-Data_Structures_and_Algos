{
 "cells": [
  {
   "cell_type": "code",
   "execution_count": 1,
   "metadata": {},
   "outputs": [],
   "source": [
    "list = [10, 5, 3, 11, 7]"
   ]
  },
  {
   "cell_type": "code",
   "execution_count": 10,
   "metadata": {},
   "outputs": [],
   "source": [
    "list.sort(reverse=True)"
   ]
  },
  {
   "cell_type": "code",
   "execution_count": 11,
   "metadata": {},
   "outputs": [
    {
     "data": {
      "text/plain": [
       "[11, 10, 7, 5, 3]"
      ]
     },
     "execution_count": 11,
     "metadata": {},
     "output_type": "execute_result"
    }
   ],
   "source": [
    "list"
   ]
  },
  {
   "cell_type": "code",
   "execution_count": 318,
   "metadata": {},
   "outputs": [],
   "source": [
    "def pair_wise_calc1(b):\n",
    "    myList = b\n",
    "    for i in range(len(myList)):\n",
    "        myList[i] = int(myList[i])\n",
    "    myList.sort(reverse=True)\n",
    "    return print(\"calc1: \", myList[0], myList[1])\n",
    "\n",
    "def pair_wise_calc1a(b):\n",
    "    out = b.sort(reverse=True)\n",
    "    return b[0] * b[1]\n",
    "\n",
    "def pair_wise_calc2(b):\n",
    "    print(\"myList input: \", b)\n",
    "    max_1, max_2 = 0, 0\n",
    "    max_1_index = [0]\n",
    "    for i in range(len(myList)):\n",
    "        if myList[i] > max_1:\n",
    "            print(True)\n",
    "            max_1 = myList[i]\n",
    "            max_1_index.append(int(i))\n",
    "            print(int(i))\n",
    "            print(\"hey look here max_1_index: \", max_1_index)\n",
    "        print(\"i counter should go up: \", i)\n",
    "    #max_2 = int(myList[int(max_1_idx[-2])])\n",
    "    res = max_1 * max_2\n",
    "    return print(max_1, max_2, res, max_1_index, max_2)\n",
    "\n",
    "def pair_wise_calc3(b):\n",
    "    myList = b\n",
    "    max_1, max_2 = 0, 0\n",
    "    for i in range(len(b)):\n",
    "        if int(myList[i]) > max_1:\n",
    "            max_2 = max_1\n",
    "            max_1 = int(myList[i])\n",
    "    res = max_1 * max_2\n",
    "    return print(max_1 * max_2)\n",
    "\n",
    "# def pair_wise_calc1(b):\n",
    "#     myList = b.split()\n",
    "#     for i in range(len(myList)):\n",
    "#         myList[i] = int(myList[i])\n",
    "#     myList.sort(reverse=True)\n",
    "#     return print(myList[0], myList[1], myList[0]*myList[1])\n",
    "\n",
    "# def pair_wise_calc2(b):\n",
    "#     myList = b.split()\n",
    "#     max_1, max_2 = 0, 0\n",
    "#     max_1_idx = []\n",
    "#     for i in range(len(myList)):\n",
    "#         if int(myList[i]) > max_1:\n",
    "#             max_1 = int(myList[i])\n",
    "#             max_1_idx.append(i)\n",
    "#     max_2 = int(myList[max_1_idx[-2]])\n",
    "#     res = max_1 * max_2\n",
    "#     return print(max_1, max_2, res, max_1_idx, max_2)\n",
    "\n",
    "# def pair_wise_calc3(b):\n",
    "#     myList = b.split()\n",
    "#     max_1, max_2 = 0, 0\n",
    "#     for i in range(len(myList)):\n",
    "#         if int(myList[i]) > max_1:\n",
    "#             max_2 = max_1\n",
    "#             max_1 = int(myList[i])\n",
    "#     res = max_1 * max_2\n",
    "#     return print(max_1, max_2, res)"
   ]
  },
  {
   "cell_type": "code",
   "execution_count": 202,
   "metadata": {},
   "outputs": [
    {
     "ename": "TypeError",
     "evalue": "'str' object does not support item assignment",
     "output_type": "error",
     "traceback": [
      "\u001b[1;31m---------------------------------------------------------------------------\u001b[0m",
      "\u001b[1;31mTypeError\u001b[0m                                 Traceback (most recent call last)",
      "\u001b[1;32m<ipython-input-202-1d8e5b320242>\u001b[0m in \u001b[0;36m<module>\u001b[1;34m\u001b[0m\n\u001b[0;32m      1\u001b[0m \u001b[0min_test\u001b[0m \u001b[1;33m=\u001b[0m \u001b[1;34m\"68 678 7 5674 56 567 4564 75 5675 960 0765 567 55678 97688 11 20 30 40 50 60\"\u001b[0m\u001b[1;33m\u001b[0m\u001b[0m\n\u001b[1;32m----> 2\u001b[1;33m \u001b[0mpair_wise_calc1\u001b[0m\u001b[1;33m(\u001b[0m\u001b[0min_test\u001b[0m\u001b[1;33m)\u001b[0m\u001b[1;33m\u001b[0m\u001b[0m\n\u001b[0m\u001b[0;32m      3\u001b[0m \u001b[0mpair_wise_calc2\u001b[0m\u001b[1;33m(\u001b[0m\u001b[0min_test\u001b[0m\u001b[1;33m)\u001b[0m\u001b[1;33m\u001b[0m\u001b[0m\n\u001b[0;32m      4\u001b[0m \u001b[0mpair_wise_calc3\u001b[0m\u001b[1;33m(\u001b[0m\u001b[0min_test\u001b[0m\u001b[1;33m)\u001b[0m\u001b[1;33m\u001b[0m\u001b[0m\n",
      "\u001b[1;32m<ipython-input-201-9b508228653e>\u001b[0m in \u001b[0;36mpair_wise_calc1\u001b[1;34m(b)\u001b[0m\n\u001b[0;32m      2\u001b[0m     \u001b[0mmyList\u001b[0m \u001b[1;33m=\u001b[0m \u001b[0mb\u001b[0m\u001b[1;33m\u001b[0m\u001b[0m\n\u001b[0;32m      3\u001b[0m     \u001b[1;32mfor\u001b[0m \u001b[0mi\u001b[0m \u001b[1;32min\u001b[0m \u001b[0mrange\u001b[0m\u001b[1;33m(\u001b[0m\u001b[0mlen\u001b[0m\u001b[1;33m(\u001b[0m\u001b[0mmyList\u001b[0m\u001b[1;33m)\u001b[0m\u001b[1;33m)\u001b[0m\u001b[1;33m:\u001b[0m\u001b[1;33m\u001b[0m\u001b[0m\n\u001b[1;32m----> 4\u001b[1;33m         \u001b[0mmyList\u001b[0m\u001b[1;33m[\u001b[0m\u001b[0mi\u001b[0m\u001b[1;33m]\u001b[0m \u001b[1;33m=\u001b[0m \u001b[0mint\u001b[0m\u001b[1;33m(\u001b[0m\u001b[0mmyList\u001b[0m\u001b[1;33m[\u001b[0m\u001b[0mi\u001b[0m\u001b[1;33m]\u001b[0m\u001b[1;33m)\u001b[0m\u001b[1;33m\u001b[0m\u001b[0m\n\u001b[0m\u001b[0;32m      5\u001b[0m     \u001b[0mmyList\u001b[0m\u001b[1;33m.\u001b[0m\u001b[0msort\u001b[0m\u001b[1;33m(\u001b[0m\u001b[0mreverse\u001b[0m\u001b[1;33m=\u001b[0m\u001b[1;32mTrue\u001b[0m\u001b[1;33m)\u001b[0m\u001b[1;33m\u001b[0m\u001b[0m\n\u001b[0;32m      6\u001b[0m     \u001b[1;32mreturn\u001b[0m \u001b[0mprint\u001b[0m\u001b[1;33m(\u001b[0m\u001b[1;34m\"calc1: \"\u001b[0m\u001b[1;33m,\u001b[0m \u001b[0mmyList\u001b[0m\u001b[1;33m[\u001b[0m\u001b[1;36m0\u001b[0m\u001b[1;33m]\u001b[0m\u001b[1;33m,\u001b[0m \u001b[0mmyList\u001b[0m\u001b[1;33m[\u001b[0m\u001b[1;36m1\u001b[0m\u001b[1;33m]\u001b[0m\u001b[1;33m)\u001b[0m\u001b[1;33m\u001b[0m\u001b[0m\n",
      "\u001b[1;31mTypeError\u001b[0m: 'str' object does not support item assignment"
     ]
    }
   ],
   "source": [
    "in_test = \"68 678 7 5674 56 567 4564 75 5675 960 0765 567 55678 97688 11 20 30 40 50 60\"\n",
    "pair_wise_calc1(in_test)\n",
    "pair_wise_calc2(in_test)\n",
    "pair_wise_calc3(in_test)"
   ]
  },
  {
   "cell_type": "code",
   "execution_count": 321,
   "metadata": {},
   "outputs": [
    {
     "name": "stdout",
     "output_type": "stream",
     "text": [
      "True\n",
      "False\n",
      "True\n",
      "True\n",
      "True\n",
      "False\n",
      "False\n",
      "True\n",
      "True\n",
      "False\n",
      "True\n",
      "True\n",
      "False\n",
      "False\n",
      "True\n",
      "True\n",
      "True\n",
      "False\n",
      "True\n",
      "True\n",
      "True\n",
      "True\n",
      "False\n",
      "True\n",
      "False\n",
      "False\n",
      "True\n",
      "False\n",
      "True\n",
      "True\n",
      "False\n",
      "True\n",
      "True\n",
      "False\n",
      "True\n",
      "False\n",
      "False\n",
      "True\n",
      "False\n",
      "False\n",
      "False\n",
      "True\n",
      "True\n",
      "False\n",
      "True\n",
      "True\n",
      "True\n",
      "False\n",
      "False\n",
      "False\n"
     ]
    }
   ],
   "source": [
    "from random import shuffle, randrange\n",
    "\n",
    "counter = 0\n",
    "\n",
    "while counter < 50:\n",
    "    list_len = randrange(10, 20)\n",
    "    number_list = []\n",
    "    for x in range(list_len):\n",
    "        number_list.append(randrange(1, 1000000))\n",
    "    shuffle(number_list)\n",
    "    #print(number_list)\n",
    "    print(pair_wise_calc3(number_list) == pair_wise_calc1a(number_list))\n",
    "    counter += 1"
   ]
  },
  {
   "cell_type": "code",
   "execution_count": 319,
   "metadata": {},
   "outputs": [],
   "source": [
    "def pair_wise_calc3(b):\n",
    "    max_1, max_2 = 0, 0\n",
    "    if len(b) == 1:\n",
    "        return b[0]*1\n",
    "    if len(b) == 2:\n",
    "        return b[0] * b[1]\n",
    "    for i in range(len(b)):\n",
    "        if b[i] > max_1:\n",
    "            max_2 = max_1\n",
    "            max_1 = b[i]\n",
    "    if max_2 == 0:\n",
    "        for i in range(1, len(b)):\n",
    "            if b[i] > max_2:\n",
    "                max_2 = b[i]\n",
    "    return max_1 * max_2"
   ]
  },
  {
   "cell_type": "code",
   "execution_count": 301,
   "metadata": {},
   "outputs": [
    {
     "data": {
      "text/plain": [
       "9000000000"
      ]
     },
     "execution_count": 301,
     "metadata": {},
     "output_type": "execute_result"
    }
   ],
   "source": [
    "pair_wise_calc3([100000, 90000])"
   ]
  },
  {
   "cell_type": "code",
   "execution_count": null,
   "metadata": {},
   "outputs": [],
   "source": []
  }
 ],
 "metadata": {
  "kernelspec": {
   "display_name": "Python 3",
   "language": "python",
   "name": "python3"
  },
  "language_info": {
   "codemirror_mode": {
    "name": "ipython",
    "version": 3
   },
   "file_extension": ".py",
   "mimetype": "text/x-python",
   "name": "python",
   "nbconvert_exporter": "python",
   "pygments_lexer": "ipython3",
   "version": "3.5.5"
  }
 },
 "nbformat": 4,
 "nbformat_minor": 4
}
